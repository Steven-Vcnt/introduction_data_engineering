{
 "cells": [
  {
   "cell_type": "code",
   "execution_count": null,
   "metadata": {},
   "outputs": [],
   "source": [
    "\n",
    "sp_dvf_file=spark.read.csv('abfs://containerintro@introductiondatastorage.dfs.core.windows.net/immodata/valeursfoncieres-2021.txt',sep=\"|\", header=True)\n",
    "\n",
    "# COMMAND ----------\n",
    "\n",
    "display(sp_dvf_file)\n",
    "\n",
    "# COMMAND ----------\n",
    "\n",
    "\n",
    "renamed_sp_dvf = sp_dvf_file.select([F.col(col).alias(col.replace(' ', '_')) for col in sp_dvf_file.columns])\n",
    "dot_sp_dvf = renamed_sp_dvf.withColumn('Valeur_fonciere', regexp_replace('Valeur_fonciere', ',', '.').cast(\"int\"))\n",
    "dot_sp_dvf = dot_sp_dvf.withColumn('Surface_reelle_bati', dot_sp_dvf['Surface_reelle_bati'].cast(\"int\"))\n",
    "\n",
    "# COMMAND ----------\n",
    "\n",
    "dot_sp_dvf.write.format(\"delta\").save(\"/FileStore/tables/dvf_2021\")\n",
    "\n",
    "# COMMAND ----------\n",
    "\n",
    "# MAGIC %sql\n",
    "# MAGIC CREATE TABLE IF NOT EXISTS bronze.dvf USING DELTA LOCATION '/FileStore/tables/dvf_2021'\n"
   ]
  },
  {
   "cell_type": "code",
   "execution_count": null,
   "metadata": {},
   "outputs": [],
   "source": [
    "from pyspark.sql import functions as F\n",
    "from pyspark.sql.functions import regexp_replace\n",
    "from pyspark.sql.types import FloatType"
   ]
  },
  {
   "cell_type": "code",
   "execution_count": null,
   "metadata": {},
   "outputs": [],
   "source": [
    "spark.conf.set(\"fs.azure.account.auth.type.introductiondatastorage.dfs.core.windows.net\", \"SAS\")\n",
    "spark.conf.set(\"fs.azure.sas.token.provider.type.introductiondatastorage.dfs.core.windows.net\", \"org.apache.hadoop.fs.azurebfs.sas.FixedSASTokenProvider\")\n",
    "spark.conf.set(\"fs.azure.sas.fixed.token.introductiondatastorage.dfs.core.windows.net\")"
   ]
  },
  {
   "cell_type": "code",
   "execution_count": null,
   "metadata": {},
   "outputs": [],
   "source": [
    "sp_dvf_file=spark.read.csv('abfs://containerintro@introductiondatastorage.dfs.core.windows.net/immodata/valeursfoncieres-2021.txt',sep=\"|\", header=True)\n"
   ]
  },
  {
   "cell_type": "code",
   "execution_count": null,
   "metadata": {},
   "outputs": [],
   "source": [
    "!pip install azure-storage-file-datalake"
   ]
  },
  {
   "cell_type": "code",
   "execution_count": null,
   "metadata": {},
   "outputs": [],
   "source": [
    "import pandas as pd"
   ]
  },
  {
   "cell_type": "code",
   "execution_count": null,
   "metadata": {},
   "outputs": [],
   "source": [
    "df24 = pd.read_csv(r'C:\\Users\\steve\\Desktop\\valeursfoncieres-2024-s1\\valeursfoncieres-2024-s1.txt', sep=\"|\")\n",
    "df23 = pd.read_csv(r'C:\\Users\\steve\\Desktop\\valeursfoncieres-2024-s1\\valeursfoncieres-2023.txt', sep=\"|\")\n",
    "df22 = pd.read_csv(r'C:\\Users\\steve\\Desktop\\valeursfoncieres-2024-s1\\valeursfoncieres-2022.txt', sep=\"|\")"
   ]
  },
  {
   "cell_type": "code",
   "execution_count": null,
   "metadata": {},
   "outputs": [],
   "source": [
    "concat = pd.concat([df24, df23, df22])"
   ]
  },
  {
   "cell_type": "code",
   "execution_count": null,
   "metadata": {},
   "outputs": [],
   "source": [
    "concat.columns"
   ]
  },
  {
   "cell_type": "code",
   "execution_count": null,
   "metadata": {},
   "outputs": [],
   "source": [
    "for each in ['Surface Carrez du 1er lot',\n",
    "       '2eme lot', 'Surface Carrez du 2eme lot', '3eme lot',\n",
    "       'Surface Carrez du 3eme lot', '4eme lot', 'Surface Carrez du 4eme lot',\n",
    "       '5eme lot', 'Surface Carrez du 5eme lot', 'Nombre de lots',\n",
    "       'Code type local', 'Type local', 'Identifiant local',\n",
    "       'Surface reelle bati', 'Nombre pieces principales', 'Nature culture',\n",
    "       'Nature culture speciale', 'Surface terrain']:\n",
    "    concat[each] = concat[each].astype(str)"
   ]
  },
  {
   "cell_type": "code",
   "execution_count": null,
   "metadata": {},
   "outputs": [],
   "source": [
    "concat.to_parquet('valeursfoncieres_2022_2024.parquet', engine='fastparquet')"
   ]
  },
  {
   "cell_type": "code",
   "execution_count": null,
   "metadata": {},
   "outputs": [],
   "source": [
    "import pandas as pd\n",
    "from azure.storage.filedatalake import DataLakeServiceClient\n",
    "from io import StringIO\n",
    "from io import BytesIO\n",
    "\n",
    "# Define your ADLS Gen2 credentials and file details\n",
    "account_name = 'adlsintrosteven'\n",
    "account_key = ''\n",
    "file_system_name = 'adlsintro'\n",
    "file_path = 'valeursfoncieres_2022_2024.parquet'\n",
    "\n",
    "# Create a DataLakeServiceClient\n",
    "service_client = DataLakeServiceClient(account_url=f\"https://{account_name}.dfs.core.windows.net\", credential=account_key)\n",
    "\n",
    "# Get a file system client\n",
    "file_system_client = service_client.get_file_system_client(file_system=file_system_name)\n",
    "\n",
    "# Get a file client\n",
    "file_client = file_system_client.get_file_client(file_path)\n",
    "\n",
    "# Read the file content\n",
    "download = file_client.download_file()\n",
    "downloaded_bytes = download.readall()\n",
    "\n",
    "# Convert bytes to a StringIO object\n",
    "file_content = BytesIO(downloaded_bytes)\n",
    "\n",
    "# Read the file content into a pandas DataFrame\n",
    "df = pd.read_parquet(file_content)\n",
    "\n",
    "# Display the DataFrame\n",
    "print(df)"
   ]
  },
  {
   "cell_type": "code",
   "execution_count": null,
   "metadata": {},
   "outputs": [],
   "source": [
    "from pyarrow.parquet import ParquetFile\n",
    "import pyarrow as pa \n",
    "pf = ParquetFile(file_content) \n",
    "first_ten_rows = next(pf.iter_batches(batch_size = 10)) \n",
    "df = pa.Table.from_batches([first_ten_rows]).to_pandas() "
   ]
  },
  {
   "cell_type": "code",
   "execution_count": null,
   "metadata": {},
   "outputs": [],
   "source": []
  }
 ],
 "metadata": {
  "kernelspec": {
   "display_name": ".venv",
   "language": "python",
   "name": "python3"
  },
  "language_info": {
   "codemirror_mode": {
    "name": "ipython",
    "version": 3
   },
   "file_extension": ".py",
   "mimetype": "text/x-python",
   "name": "python",
   "nbconvert_exporter": "python",
   "pygments_lexer": "ipython3",
   "version": "3.11.5"
  }
 },
 "nbformat": 4,
 "nbformat_minor": 2
}
