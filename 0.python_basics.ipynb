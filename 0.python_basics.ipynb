{
 "cells": [
  {
   "cell_type": "code",
   "execution_count": null,
   "id": "f1614bab",
   "metadata": {},
   "outputs": [],
   "source": [
    "x='hello world'\n",
    "print(\"The variable has the value:\", x)\n"
   ]
  },
  {
   "cell_type": "code",
   "execution_count": null,
   "id": "ce726bba",
   "metadata": {},
   "outputs": [],
   "source": [
    "x=3\n",
    "print(x)\n"
   ]
  },
  {
   "cell_type": "code",
   "execution_count": null,
   "id": "996466af",
   "metadata": {},
   "outputs": [],
   "source": [
    "camelCase = 'mixed case'\n",
    "snake_case = 'words separated by underscore'\n"
   ]
  },
  {
   "cell_type": "code",
   "execution_count": null,
   "id": "9df53f91",
   "metadata": {},
   "outputs": [],
   "source": [
    "t_boolean = True\n",
    "print(type(t_boolean))\n",
    "compute_boolean = 1 + 1 == 1\n",
    "print(compute_boolean)\n"
   ]
  },
  {
   "cell_type": "code",
   "execution_count": null,
   "id": "9ca3efec",
   "metadata": {},
   "outputs": [],
   "source": [
    "t_integer = 12\n",
    "print(type(t_integer))\n",
    "compute_integer = 40 + 6 - 2\n",
    "print(compute_integer)\n"
   ]
  },
  {
   "cell_type": "code",
   "execution_count": null,
   "id": "7805b8c0",
   "metadata": {},
   "outputs": [],
   "source": [
    "t_float = 12.58\n",
    "print(type(t_float))\n",
    "compute_float = 1.5 + 10.7 + 4.9\n",
    "print(compute_float)\n"
   ]
  },
  {
   "cell_type": "code",
   "execution_count": null,
   "id": "c681a947",
   "metadata": {},
   "outputs": [],
   "source": [
    "t_string = 'Hello'\n",
    "print(type(t_string))\n",
    "compute_string= '400' + '4' + ' Error'\n",
    "print(compute_string)\n"
   ]
  },
  {
   "cell_type": "code",
   "execution_count": null,
   "id": "2540043b",
   "metadata": {},
   "outputs": [],
   "source": [
    "single_quote = 'Hello'\n",
    "doulbe_quote = \"Hello\"\n",
    "multilign_string = '''This is\n",
    "a multiline string\n",
    "If you need to store\n",
    "long arrays of characters.\n",
    "'''\n"
   ]
  },
  {
   "cell_type": "code",
   "execution_count": null,
   "id": "d00b1a2a",
   "metadata": {},
   "outputs": [],
   "source": [
    "t_list=['Chapter', 1, 'This', 'Is', 'a', 'list', 'of', 'strings', '.']\n",
    "print(t_list)\n"
   ]
  },
  {
   "cell_type": "code",
   "execution_count": null,
   "id": "66699c0f",
   "metadata": {},
   "outputs": [],
   "source": [
    "t_dictionary = {'Peugeot': 306, \"Mercedes-Benz\": \"C220\", \"Audi\": \"A4\"}\n",
    "print(t_dictionary)\n"
   ]
  },
  {
   "cell_type": "code",
   "execution_count": null,
   "id": "200ce9b0",
   "metadata": {},
   "outputs": [],
   "source": [
    "t_nested_dict = [\n",
    "\n",
    "                    {\n",
    "                        \"state\": \"Florida\",\n",
    "                        \"shortname\":\"FL\",\n",
    "                        \"Info\": {\"governor\": \"Rick Scott\"},\n",
    "                        \"Counties\": [ \n",
    "                            {\"name\": \"Dade\", \"population\": 12345}, \n",
    "                            {\"name\": \"Broward\", \"population\": 40000},\n",
    "                            {\"name\": \"Palm Beach\", \"population\": 60000},\n",
    "                        ],\n",
    "                    },\n",
    "                    {\n",
    "                        \"state\": \"Ohio\",\n",
    "                        \"shortname\": \"OH\",\n",
    "                        \"info\": {\"governor\":\"John Kasich\"},\n",
    "                        \"counties\": [\n",
    "                            {\"name\": \"Summit\", \"population\": 1234}, \n",
    "                            {\"name\": \"Cuyahoga\", \"population\": 1337},\n",
    "                        ],\n",
    "                    },\n",
    "                ]\n",
    "print(t_nested_dict)\n"
   ]
  },
  {
   "cell_type": "code",
   "execution_count": null,
   "id": "33a57a83",
   "metadata": {},
   "outputs": [],
   "source": [
    "t_tuple = ('This', 'is', 'a', 'tuple.') \n",
    "print(t_tuple)\n"
   ]
  },
  {
   "cell_type": "code",
   "execution_count": null,
   "id": "fa5ce39c",
   "metadata": {},
   "outputs": [],
   "source": [
    "import pandas as pd\n",
    "data = {\n",
    "    \"City\": ['Paris', 'Lyon', 'Bordeaux'],\n",
    "    \"Population\": [2161000, 513275, 249712]\n",
    "}\n",
    "t_dataframe = pd.DataFrame(data) \n",
    "print(t_dataframe)\n"
   ]
  },
  {
   "cell_type": "code",
   "execution_count": null,
   "id": "59bdd7c2",
   "metadata": {},
   "outputs": [],
   "source": [
    "cartes = ['Infinite', 'Platinium', 'Gold', 'Classic']\n",
    "for carte in cartes:\n",
    "    print(carte)\n"
   ]
  },
  {
   "cell_type": "code",
   "execution_count": null,
   "id": "34ea4aaf",
   "metadata": {},
   "outputs": [],
   "source": [
    "montant = 0\n",
    "plafond = 100\n",
    "while montant < plafond:\n",
    "    print(montant) \n",
    "    montant += 10\n"
   ]
  },
  {
   "cell_type": "code",
   "execution_count": null,
   "id": "514cff3d",
   "metadata": {},
   "outputs": [],
   "source": [
    "montant_compte = 50 \n",
    "if montant_compte < -500:\n",
    "    print(\"Compte en contentieux\")\n",
    "elif montant_compte < 0:\n",
    "    print(\"Compte débiteur\")\n",
    "else: \n",
    "    print(\"Compte créditeur\")\n"
   ]
  },
  {
   "cell_type": "code",
   "execution_count": null,
   "id": "892c213a",
   "metadata": {},
   "outputs": [],
   "source": [
    "def check_account_statut (montant_compte):\n",
    "    if montant_compte < -500: \n",
    "        statut='Compte en contentieux'\n",
    "    elif montant_compte < 0:\n",
    "        statut=\"Compte débiteur\"\n",
    "    else:\n",
    "        statut='Compte créditeur'\n",
    "    return statut\n"
   ]
  },
  {
   "cell_type": "code",
   "execution_count": null,
   "id": "b57171bd",
   "metadata": {},
   "outputs": [],
   "source": [
    "import pandas as pd\n",
    "import os\n",
    "import glob\n"
   ]
  },
  {
   "cell_type": "code",
   "execution_count": null,
   "id": "eb0b6200",
   "metadata": {},
   "outputs": [],
   "source": [
    "nasdaq_top_companies = [\n",
    "    {\n",
    "        \"Ticker\": \"AAPL\",\n",
    "        \"Company\": \"Apple Inc.\",\n",
    "        \"Industry\": \"Technology\",\n",
    "        \"Market Cap\": \"Trillion Dollars\",\n",
    "        \"Share_Price\": 150.00,\n",
    "        \"Description\": \"Share price for Apple Inc. in September 2021\"\n",
    "    },\n",
    "    {\n",
    "        \"Ticker\": \"MSFT\",\n",
    "        \"Company\": \"Microsoft Corporation\",\n",
    "        \"Industry\": \"Technology\",\n",
    "        \"Market Cap\": \"Trillion Dollars\",\n",
    "        \"Share_Price\": 300.00,\n",
    "        \"Description\": \"Share price for Microsoft Corporation in September 2021\"\n",
    "    },\n",
    "    {\n",
    "        \"Ticker\": \"AMZN\",\n",
    "        \"Company\": \"Amazon.com Inc.\",\n",
    "        \"Industry\": \"E-commerce\",\n",
    "        \"Market Cap\": \"Trillion Dollars\",\n",
    "        \"Share_Price\": 3400.00,\n",
    "        \"Description\": \"Share price for Amazon.com Inc. in September 2021\"\n",
    "    },\n",
    "    {\n",
    "        \"Ticker\": \"GOOGL\",\n",
    "        \"Company\": \"Alphabet Inc. (Google)\",\n",
    "        \"Industry\": \"Technology\",\n",
    "        \"Market Cap\": \"Trillion Dollars\",\n",
    "        \"Share_Price\": 2700.00,\n",
    "        \"Description\": \"Share price for Alphabet Inc. in September 2021\"\n",
    "    },\n",
    "    {\n",
    "        \"Ticker\": \"FB\",\n",
    "        \"Company\": \"Meta Platforms, Inc. (Facebook)\",\n",
    "        \"Industry\": \"Social Media\",\n",
    "        \"Market Cap\": \"Trillion Dollars\",\n",
    "        \"Share_Price\": 330.00,\n",
    "        \"Description\": \"Share price for Meta Platforms, Inc. in September 2021\"\n",
    "    }\n",
    "]\n",
    "# Load dict to DataFrame\n",
    "df_nasdaq=pd.DataFrame(nasdaq_top_companies)\n"
   ]
  },
  {
   "cell_type": "code",
   "execution_count": null,
   "id": "ee913e8b",
   "metadata": {},
   "outputs": [],
   "source": [
    "cac40_data = [\n",
    "    {\n",
    "        \"Ticker\": \"AC\",\n",
    "        \"Company\": \"Accor\",\n",
    "        \"Share_Price\": 35.60\n",
    "    },\n",
    "    {\n",
    "        \"Ticker\": \"AI\",\n",
    "        \"Company\": \"Air Liquide\",\n",
    "        \"Share_Price\": 147.80\n",
    "    },\n",
    "    {\n",
    "        \"Ticker\": \"MT\",\n",
    "        \"Company\": \"ArcelorMittal\",\n",
    "        \"Share_Price\": 28.90\n",
    "    },\n",
    "    {\n",
    "        \"Ticker\": \"BNP\",\n",
    "        \"Company\": \"BNP Paribas\",\n",
    "        \"Share_Price\": 53.20\n",
    "    },\n",
    "    {\n",
    "        \"Ticker\": \"CAP\",\n",
    "        \"Company\": \"Capgemini\",\n",
    "        \"Share_Price\": 140.45\n",
    "    },\n",
    "]\n",
    "# Load dict to DataFrame\n",
    "cac40_data=pd.DataFrame(cac40_data)\n"
   ]
  },
  {
   "cell_type": "code",
   "execution_count": null,
   "id": "42b8e39b",
   "metadata": {},
   "outputs": [],
   "source": [
    "os.mkdir(r'./MARKET_DATA/')\n"
   ]
  },
  {
   "cell_type": "code",
   "execution_count": null,
   "id": "51c2896a",
   "metadata": {},
   "outputs": [],
   "source": [
    "def CreateCsvFile(df, PrefixName: str):\n",
    "    '''\n",
    "    The function CreateCsvFile enables to create multiple csv files by tickers \n",
    "    from a dataframe and a prefix as the filename.\n",
    "    '''\n",
    "    for ticker in df['Ticker']:\n",
    "        pathName = r'./MARKET_DATA/'+ str(PrefixName) +str(ticker)+'.csv'\n",
    "        df[df['Ticker']==ticker].to_csv(pathName, index=False)\n",
    "    return None\n"
   ]
  },
  {
   "cell_type": "code",
   "execution_count": null,
   "id": "5267525a",
   "metadata": {},
   "outputs": [],
   "source": [
    "CreateCsvFile(df_nasdaq, 'NASDAQ_')\n",
    "CreateCsvFile(cac40_data, 'CAC40_')\n"
   ]
  },
  {
   "cell_type": "code",
   "execution_count": null,
   "id": "6173b47e",
   "metadata": {},
   "outputs": [],
   "source": [
    "# Assign the folder to parse\n",
    "pathFolder = r'MARKET_DATA'\n",
    "# Parse the folder\n",
    "walkFolder = [path[0] for path in os.walk (pathFolder)]\n",
    "# Initialize list\n",
    "listOfFile = []\n",
    "# Loop on the folder\n",
    "for folder in walkFolder:\n",
    "    # Assign folder path\n",
    "    folderName = os.path.basename(folder)\n",
    "    # Assign folder path joined to a file type searched\n",
    "    files = os.path.join(folder, 'NASDAQ_*.csv')\n",
    "    # Store the file path matching the file type searched\n",
    "    listOfFile = glob.glob(files)\n"
   ]
  },
  {
   "cell_type": "code",
   "execution_count": null,
   "id": "bf3e26e2",
   "metadata": {},
   "outputs": [],
   "source": [
    "# Initialize list\n",
    "full_list = []\n",
    "# Loop on all files\n",
    "for file in listOfFile:\n",
    "    # Import data to a Dataframe\n",
    "    full_file = pd.read_csv(file, dtype = str).reset_index(drop = True)\n",
    "    # Assign the file path to the file_name columns\n",
    "    full_file['file_name']=os.path.basename(file)\n",
    "    # Append the DataFrame to the list initialized\n",
    "    full_list.append(full_file)\n",
    "# Merge the list of DataFrames to a single DataFrame\n",
    "fileConcat = pd.concat(full_list)\n"
   ]
  },
  {
   "cell_type": "code",
   "execution_count": null,
   "id": "c1a1288b",
   "metadata": {},
   "outputs": [],
   "source": []
  }
 ],
 "metadata": {
  "kernelspec": {
   "display_name": ".venv",
   "language": "python",
   "name": "python3"
  },
  "language_info": {
   "codemirror_mode": {
    "name": "ipython",
    "version": 3
   },
   "file_extension": ".py",
   "mimetype": "text/x-python",
   "name": "python",
   "nbconvert_exporter": "python",
   "pygments_lexer": "ipython3",
   "version": "3.11.5"
  }
 },
 "nbformat": 4,
 "nbformat_minor": 5
}
